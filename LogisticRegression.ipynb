{
 "cells": [
  {
   "cell_type": "markdown",
   "metadata": {},
   "source": [
    "You've heard of the simple linear regression:\n",
    "\n",
    "$\n",
    "y = b_{0}+b_{1}x\n",
    "$\n",
    "\n",
    "You've seen the multiple linear regression:\n",
    "\n",
    "$\n",
    "y = b_{0}+b_{1}x_{1}+\\ldots+b_{n}x_{x}\n",
    "$\n",
    "\n",
    "Now, prepare yourself for the...\n",
    "\n",
    "\n",
    "# Logistic Regression\n",
    "\n",
    "We employ this bad boy when we can see a clear correlation in the data, but instead of predicting a value, we want to know some probability of something belonging to some category. For example, would a person within *this* demographic buy *this* product? The difference from the linear regression models doesn't stop there. We replace the $y$ in the lienar equation with a sigmoid function:\n",
    "\n",
    "$\n",
    "\\ln{\\frac{p}{1-p}} = b_{0}+b_{1}x,\n",
    "$\n",
    "\n",
    "where $p$ is the probabilities we are predicting that something will be classified as one thing over another."
   ]
  },
  {
   "cell_type": "code",
   "execution_count": null,
   "metadata": {},
   "outputs": [],
   "source": []
  }
 ],
 "metadata": {
  "kernelspec": {
   "display_name": "Python 3",
   "language": "python",
   "name": "python3"
  },
  "language_info": {
   "codemirror_mode": {
    "name": "ipython",
    "version": 3
   },
   "file_extension": ".py",
   "mimetype": "text/x-python",
   "name": "python",
   "nbconvert_exporter": "python",
   "pygments_lexer": "ipython3",
   "version": "3.5.5"
  }
 },
 "nbformat": 4,
 "nbformat_minor": 2
}
