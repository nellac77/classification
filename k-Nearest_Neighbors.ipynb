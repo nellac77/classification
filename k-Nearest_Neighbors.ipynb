{
 "cells": [
  {
   "cell_type": "markdown",
   "metadata": {},
   "source": [
    "### How many?\n",
    "\n",
    "# k-Nearest Neighbors"
   ]
  },
  {
   "cell_type": "markdown",
   "metadata": {},
   "source": [
    "The k-Nearest Neighbors (kNN) algorithm is hardly machine learning. Imagine you have some data that is split into two categories. If we put a new data point into the data set, we want to see if that new observation can be categorized as part of one group or the other. That is what we are after: *how do we categorize a new observation?*"
   ]
  },
  {
   "cell_type": "markdown",
   "metadata": {},
   "source": [
    "This is done in four simple steps:\n",
    "\n",
    "1. Choose how many neighbors, *k*, surrounding the uncategorized observation to look at.\n",
    "2. Grab the *k* nearest neighbors of that data point, using some distance formula.\n",
    "3. Among these *k* neighbors sum the number of each belonging to their respective categories.\n",
    "4. Assign the new, uncategorized data point to the category associated with the highest counted *k* neighbors' category.\n",
    "\n",
    "Let's look at each step in detail."
   ]
  },
  {
   "cell_type": "markdown",
   "metadata": {},
   "source": [
    "## Choose how many neighbors, *k*, surrounding the uncategorized observation to look at\n",
    "\n",
    "Here we select how many neighbors we want our algorithm to consider when categorizing a new data point that is uncategorized. A common value for this is $k=5$."
   ]
  },
  {
   "cell_type": "markdown",
   "metadata": {},
   "source": [
    "## Grab the *k* nearest neighbors of that data point, using some distance formula\n",
    "\n",
    "This is where the \"nearest\" part of the nearest neighbors comes into play. Here we will use some distance formula to calculate the distance from the new data point we are trying to predict a category for to it's *k* nearest neighbors. The distance formula used can be one of many, so long as it is appropriate to your data.\n",
    "\n",
    "A common formula is the Euclidean distance:\n",
    "\n",
    "$$\n",
    "d(p,q) = \\sqrt{\\sum_{i=1}^{n}(q_{i}-p_{i})^{2}},\n",
    "$$\n",
    "\n",
    "in Cartesian coordinates. In two dimensions ($n=2$), using $x$ and $y$, this looks like:\n",
    "\n",
    "$$\n",
    "d(x,y) = \\sqrt{(x_{2}-x_{1})^{2}+(y_{2}-y_{1})^{2}}\n",
    "$$\n",
    "\n",
    "Note that the Euclidean distance is a special case of the Minkowski distance, which can be used. Practically speaking, I am unaware of any benefit of using the Chebyshev distance (special case of Minkowski distance where $p=\\infty$) in kNN, but [here is a paper where it was done](http://www.ijsps.com/uploadfile/2013/1128/20131128014646741.pdf)."
   ]
  },
  {
   "cell_type": "markdown",
   "metadata": {},
   "source": [
    "## Among these *k* neighbors sum the number of each belonging to their respective categories\n",
    "\n",
    "After determining the *k* nearest neighbors, those *k* data points are summed with respect to which category they belong two. In our example of data been categorized into two groups, we may find (for $k=5$) that 3 belong to Group1 while only 2 belong to group 2."
   ]
  },
  {
   "cell_type": "markdown",
   "metadata": {},
   "source": [
    "## Assign the new, uncategorized data point to the category associated with the highest counted *k* neighbors' category\n",
    "\n",
    "Lastly, the algorithm will now categorize the new data point based on the counts from the previous step. This is essentially voting on the category to assign. Whichever category receive the most votes wins.\n",
    "\n",
    "There is, of course, the case where the votes are tied. This is handle by choosing an odd-numbered value for *k*. In the event that an odd-number *k* is chosen but there is only an even number of data points to sample from during the voting process, well... We'll just have to think of something better. "
   ]
  },
  {
   "cell_type": "markdown",
   "metadata": {},
   "source": [
    "Now that we have a little intuition towards what this algorithm does, let's use it to classify some social network ads data."
   ]
  },
  {
   "cell_type": "markdown",
   "metadata": {},
   "source": [
    "## Using kNN\n",
    "\n",
    "Recall from another notebook (logistic regression) that we are working for a car company that places adds on a social network and we are charged with predicting whether or not a person will purchase a car, or not, based on the social network data we have."
   ]
  },
  {
   "cell_type": "code",
   "execution_count": 2,
   "metadata": {},
   "outputs": [],
   "source": [
    "# Importing the tools we need\n",
    "import numpy as np\n",
    "import matplotlib.pyplot as plt\n",
    "import pandas as pd"
   ]
  },
  {
   "cell_type": "code",
   "execution_count": 3,
   "metadata": {},
   "outputs": [],
   "source": [
    "# Import our data set as a dataframe\n",
    "data = pd.read_csv('data/Social_Network_Ads.csv')"
   ]
  },
  {
   "cell_type": "code",
   "execution_count": 11,
   "metadata": {},
   "outputs": [],
   "source": [
    "# Split the data into independent and dependent variables\n",
    "X = data.iloc[:, [2,3]].values  # remember from logistic regression notebook, don't need \"User ID\"\n",
    "y = data.iloc[:, -1].values"
   ]
  },
  {
   "cell_type": "code",
   "execution_count": 14,
   "metadata": {},
   "outputs": [],
   "source": [
    "# Split data into trainign and test sets\n",
    "from sklearn.cross_validation import train_test_split\n",
    "X_train, X_test, y_train, y_test = train_test_split(X, y, test_size=0.25, random_state=0)"
   ]
  },
  {
   "cell_type": "code",
   "execution_count": 16,
   "metadata": {},
   "outputs": [
    {
     "name": "stderr",
     "output_type": "stream",
     "text": [
      "/home/cjohn033/miniconda3/envs/py3-learn/lib/python3.5/site-packages/sklearn/utils/validation.py:475: DataConversionWarning: Data with input dtype int64 was converted to float64 by StandardScaler.\n",
      "  warnings.warn(msg, DataConversionWarning)\n"
     ]
    }
   ],
   "source": [
    "# Feature scaling\n",
    "from sklearn.preprocessing import StandardScaler\n",
    "sc = StandardScaler()\n",
    "X_train = sc.fit_transform(X_train)\n",
    "X_test = sc.transform(X_test)"
   ]
  },
  {
   "cell_type": "code",
   "execution_count": 17,
   "metadata": {},
   "outputs": [
    {
     "data": {
      "text/plain": [
       "KNeighborsClassifier(algorithm='auto', leaf_size=30, metric='minkowski',\n",
       "           metric_params=None, n_jobs=1, n_neighbors=5, p=2,\n",
       "           weights='uniform')"
      ]
     },
     "execution_count": 17,
     "metadata": {},
     "output_type": "execute_result"
    }
   ],
   "source": [
    "# Fit classifier to training set\n",
    "from sklearn.neighbors import KNeighborsClassifier\n",
    "classifier = KNeighborsClassifier(n_neighbors=5, metric='minkowski', p=2) #p=2: euclidean distnace\n",
    "classifier.fit(X_train, y_train)"
   ]
  },
  {
   "cell_type": "code",
   "execution_count": 18,
   "metadata": {},
   "outputs": [],
   "source": [
    "# Predict the test set\n",
    "y_pred = classifier.predict(X_test)"
   ]
  },
  {
   "cell_type": "code",
   "execution_count": 19,
   "metadata": {},
   "outputs": [],
   "source": [
    "# Make the confusion matrix\n",
    "from sklearn.metrics import confusion_matrix\n",
    "cm = confusion_matrix(y_test, y_pred)"
   ]
  },
  {
   "cell_type": "code",
   "execution_count": 21,
   "metadata": {},
   "outputs": [
    {
     "name": "stdout",
     "output_type": "stream",
     "text": [
      "[[64  4]\n",
      " [ 3 29]]\n"
     ]
    }
   ],
   "source": [
    "# What does the confusion matrix look like?\n",
    "print(cm)"
   ]
  },
  {
   "cell_type": "markdown",
   "metadata": {},
   "source": [
    "### Visulaizing the results from the Training set"
   ]
  },
  {
   "cell_type": "code",
   "execution_count": 25,
   "metadata": {},
   "outputs": [
    {
     "data": {
      "image/png": "[encoded data removed]",
      "text/plain": [
       "<Figure size 432x288 with 1 Axes>"
      ]
     },
     "metadata": {},
     "output_type": "display_data"
    }
   ],
   "source": [
    "from matplotlib.colors import ListedColormap\n",
    "X_set, y_set = X_train, y_train\n",
    "X1, X2 = np.meshgrid(np.arange(start=X_set[:, 0].min() - 1, stop=X_set[:,0].max() + 1, step=0.01),\n",
    "                     np.arange(start = X_set[:, 1].min() - 1, stop = X_set[:, 1].max() + 1, step = 0.01))\n",
    "\n",
    "_ = plt.contourf(X1, X2, classifier.predict(np.array([X1.ravel(), X2.ravel()]).T).reshape(X1.shape),\n",
    "             alpha = 0.7, cmap = ListedColormap(('red', 'green')))\n",
    "_ = plt.xlim(X1.min(), X1.max())\n",
    "_ = plt.ylim(X2.min(), X2.max())\n",
    "\n",
    "for i, j in enumerate(np.unique(y_set)):\n",
    "    plt.scatter(X_set[y_set == j, 0], X_set[y_set == j, 1],\n",
    "                c = ListedColormap(('red', 'green'))(i), label = j)\n",
    "\n",
    "_ = plt.title('kNN (Training set)')\n",
    "_ = plt.xlabel('Age')\n",
    "_ = plt.ylabel('Estimated Salary')\n",
    "_ = plt.legend()"
   ]
  },
  {
   "cell_type": "markdown",
   "metadata": {},
   "source": [
    "### Visulaizing the results from the Test set"
   ]
  },
  {
   "cell_type": "code",
   "execution_count": 26,
   "metadata": {},
   "outputs": [
    {
     "data": {
      "image/png": "[encoded data removed]",
      "text/plain": [
       "<Figure size 432x288 with 1 Axes>"
      ]
     },
     "metadata": {},
     "output_type": "display_data"
    }
   ],
   "source": [
    "from matplotlib.colors import ListedColormap\n",
    "X_set, y_set = X_test, y_test\n",
    "X1, X2 = np.meshgrid(np.arange(start=X_set[:, 0].min() - 1, stop=X_set[:,0].max() + 1, step=0.01),\n",
    "                     np.arange(start = X_set[:, 1].min() - 1, stop = X_set[:, 1].max() + 1, step = 0.01))\n",
    "\n",
    "_ = plt.contourf(X1, X2, classifier.predict(np.array([X1.ravel(), X2.ravel()]).T).reshape(X1.shape),\n",
    "             alpha = 0.7, cmap = ListedColormap(('red', 'green')))\n",
    "_ = plt.xlim(X1.min(), X1.max())\n",
    "_ = plt.ylim(X2.min(), X2.max())\n",
    "\n",
    "for i, j in enumerate(np.unique(y_set)):\n",
    "    plt.scatter(X_set[y_set == j, 0], X_set[y_set == j, 1],\n",
    "                c = ListedColormap(('red', 'green'))(i), label = j)\n",
    "\n",
    "_ = plt.title('kNN (Test set)')\n",
    "_ = plt.xlabel('Age')\n",
    "_ = plt.ylabel('Estimated Salary')\n",
    "_ = plt.legend()"
   ]
  },
  {
   "cell_type": "markdown",
   "metadata": {},
   "source": [
    "We do have some incorrect predictions, but overall not too bad at all. With this model we would be ready to predict the category for a brand new observation!"
   ]
  },
  {
   "cell_type": "code",
   "execution_count": null,
   "metadata": {},
   "outputs": [],
   "source": []
  }
 ],
 "metadata": {
  "kernelspec": {
   "display_name": "Python 3",
   "language": "python",
   "name": "python3"
  },
  "language_info": {
   "codemirror_mode": {
    "name": "ipython",
    "version": 3
   },
   "file_extension": ".py",
   "mimetype": "text/x-python",
   "name": "python",
   "nbconvert_exporter": "python",
   "pygments_lexer": "ipython3",
   "version": "3.5.5"
  }
 },
 "nbformat": 4,
 "nbformat_minor": 2
}
